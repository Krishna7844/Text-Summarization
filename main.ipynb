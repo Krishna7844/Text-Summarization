{
 "cells": [
  {
   "cell_type": "code",
   "execution_count": null,
   "id": "2ed618c9",
   "metadata": {
    "vscode": {
     "languageId": "plaintext"
    }
   },
   "outputs": [],
   "source": [
    "import pand"
   ]
  }
 ],
 "metadata": {
  "language_info": {
   "name": "python"
  }
 },
 "nbformat": 4,
 "nbformat_minor": 5
}
